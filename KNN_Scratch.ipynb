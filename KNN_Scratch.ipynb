{
  "nbformat": 4,
  "nbformat_minor": 0,
  "metadata": {
    "colab": {
      "provenance": [],
      "authorship_tag": "ABX9TyPydD4K88rYoXdvv70/EkiO",
      "include_colab_link": true
    },
    "kernelspec": {
      "name": "python3",
      "display_name": "Python 3"
    },
    "language_info": {
      "name": "python"
    }
  },
  "cells": [
    {
      "cell_type": "markdown",
      "metadata": {
        "id": "view-in-github",
        "colab_type": "text"
      },
      "source": [
        "<a href=\"https://colab.research.google.com/github/akansha-mehrotra/ML/blob/main/KNN_Scratch.ipynb\" target=\"_parent\"><img src=\"https://colab.research.google.com/assets/colab-badge.svg\" alt=\"Open In Colab\"/></a>"
      ]
    },
    {
      "cell_type": "code",
      "execution_count": 4,
      "metadata": {
        "id": "Fm-l9BZoCTd4"
      },
      "outputs": [],
      "source": []
    },
    {
      "cell_type": "code",
      "source": [
        "import matplotlib.pyplot as plt\n",
        "import numpy as np\n",
        "import pandas as pd\n",
        "import seaborn as sns\n",
        "\n",
        "from sklearn import datasets\n",
        "from sklearn.model_selection import train_test_split , KFold\n",
        "from sklearn.preprocessing import Normalizer\n",
        "from sklearn.metrics import accuracy_score\n",
        "from sklearn.neighbors import KNeighborsClassifier\n",
        "from sklearn import metrics\n",
        "from collections import Counter"
      ],
      "metadata": {
        "id": "P7o-e8F6Fr2G"
      },
      "execution_count": 7,
      "outputs": []
    },
    {
      "cell_type": "code",
      "source": [
        "iris = datasets.load_iris()\n",
        "iris_df = pd.DataFrame(data= np.c_[iris['data'], iris['target']], columns= iris['feature_names'] + ['target'])\n",
        "iris_df.head()"
      ],
      "metadata": {
        "colab": {
          "base_uri": "https://localhost:8080/",
          "height": 206
        },
        "id": "f9-l-ij5Ftv9",
        "outputId": "a63430d7-161c-4859-9651-0444ec538bf2"
      },
      "execution_count": 8,
      "outputs": [
        {
          "output_type": "execute_result",
          "data": {
            "text/plain": [
              "   sepal length (cm)  sepal width (cm)  petal length (cm)  petal width (cm)  \\\n",
              "0                5.1               3.5                1.4               0.2   \n",
              "1                4.9               3.0                1.4               0.2   \n",
              "2                4.7               3.2                1.3               0.2   \n",
              "3                4.6               3.1                1.5               0.2   \n",
              "4                5.0               3.6                1.4               0.2   \n",
              "\n",
              "   target  \n",
              "0     0.0  \n",
              "1     0.0  \n",
              "2     0.0  \n",
              "3     0.0  \n",
              "4     0.0  "
            ],
            "text/html": [
              "\n",
              "  <div id=\"df-0d4ac74a-6d12-4135-bb7e-6197cd7f7222\">\n",
              "    <div class=\"colab-df-container\">\n",
              "      <div>\n",
              "<style scoped>\n",
              "    .dataframe tbody tr th:only-of-type {\n",
              "        vertical-align: middle;\n",
              "    }\n",
              "\n",
              "    .dataframe tbody tr th {\n",
              "        vertical-align: top;\n",
              "    }\n",
              "\n",
              "    .dataframe thead th {\n",
              "        text-align: right;\n",
              "    }\n",
              "</style>\n",
              "<table border=\"1\" class=\"dataframe\">\n",
              "  <thead>\n",
              "    <tr style=\"text-align: right;\">\n",
              "      <th></th>\n",
              "      <th>sepal length (cm)</th>\n",
              "      <th>sepal width (cm)</th>\n",
              "      <th>petal length (cm)</th>\n",
              "      <th>petal width (cm)</th>\n",
              "      <th>target</th>\n",
              "    </tr>\n",
              "  </thead>\n",
              "  <tbody>\n",
              "    <tr>\n",
              "      <th>0</th>\n",
              "      <td>5.1</td>\n",
              "      <td>3.5</td>\n",
              "      <td>1.4</td>\n",
              "      <td>0.2</td>\n",
              "      <td>0.0</td>\n",
              "    </tr>\n",
              "    <tr>\n",
              "      <th>1</th>\n",
              "      <td>4.9</td>\n",
              "      <td>3.0</td>\n",
              "      <td>1.4</td>\n",
              "      <td>0.2</td>\n",
              "      <td>0.0</td>\n",
              "    </tr>\n",
              "    <tr>\n",
              "      <th>2</th>\n",
              "      <td>4.7</td>\n",
              "      <td>3.2</td>\n",
              "      <td>1.3</td>\n",
              "      <td>0.2</td>\n",
              "      <td>0.0</td>\n",
              "    </tr>\n",
              "    <tr>\n",
              "      <th>3</th>\n",
              "      <td>4.6</td>\n",
              "      <td>3.1</td>\n",
              "      <td>1.5</td>\n",
              "      <td>0.2</td>\n",
              "      <td>0.0</td>\n",
              "    </tr>\n",
              "    <tr>\n",
              "      <th>4</th>\n",
              "      <td>5.0</td>\n",
              "      <td>3.6</td>\n",
              "      <td>1.4</td>\n",
              "      <td>0.2</td>\n",
              "      <td>0.0</td>\n",
              "    </tr>\n",
              "  </tbody>\n",
              "</table>\n",
              "</div>\n",
              "      <button class=\"colab-df-convert\" onclick=\"convertToInteractive('df-0d4ac74a-6d12-4135-bb7e-6197cd7f7222')\"\n",
              "              title=\"Convert this dataframe to an interactive table.\"\n",
              "              style=\"display:none;\">\n",
              "        \n",
              "  <svg xmlns=\"http://www.w3.org/2000/svg\" height=\"24px\"viewBox=\"0 0 24 24\"\n",
              "       width=\"24px\">\n",
              "    <path d=\"M0 0h24v24H0V0z\" fill=\"none\"/>\n",
              "    <path d=\"M18.56 5.44l.94 2.06.94-2.06 2.06-.94-2.06-.94-.94-2.06-.94 2.06-2.06.94zm-11 1L8.5 8.5l.94-2.06 2.06-.94-2.06-.94L8.5 2.5l-.94 2.06-2.06.94zm10 10l.94 2.06.94-2.06 2.06-.94-2.06-.94-.94-2.06-.94 2.06-2.06.94z\"/><path d=\"M17.41 7.96l-1.37-1.37c-.4-.4-.92-.59-1.43-.59-.52 0-1.04.2-1.43.59L10.3 9.45l-7.72 7.72c-.78.78-.78 2.05 0 2.83L4 21.41c.39.39.9.59 1.41.59.51 0 1.02-.2 1.41-.59l7.78-7.78 2.81-2.81c.8-.78.8-2.07 0-2.86zM5.41 20L4 18.59l7.72-7.72 1.47 1.35L5.41 20z\"/>\n",
              "  </svg>\n",
              "      </button>\n",
              "      \n",
              "  <style>\n",
              "    .colab-df-container {\n",
              "      display:flex;\n",
              "      flex-wrap:wrap;\n",
              "      gap: 12px;\n",
              "    }\n",
              "\n",
              "    .colab-df-convert {\n",
              "      background-color: #E8F0FE;\n",
              "      border: none;\n",
              "      border-radius: 50%;\n",
              "      cursor: pointer;\n",
              "      display: none;\n",
              "      fill: #1967D2;\n",
              "      height: 32px;\n",
              "      padding: 0 0 0 0;\n",
              "      width: 32px;\n",
              "    }\n",
              "\n",
              "    .colab-df-convert:hover {\n",
              "      background-color: #E2EBFA;\n",
              "      box-shadow: 0px 1px 2px rgba(60, 64, 67, 0.3), 0px 1px 3px 1px rgba(60, 64, 67, 0.15);\n",
              "      fill: #174EA6;\n",
              "    }\n",
              "\n",
              "    [theme=dark] .colab-df-convert {\n",
              "      background-color: #3B4455;\n",
              "      fill: #D2E3FC;\n",
              "    }\n",
              "\n",
              "    [theme=dark] .colab-df-convert:hover {\n",
              "      background-color: #434B5C;\n",
              "      box-shadow: 0px 1px 3px 1px rgba(0, 0, 0, 0.15);\n",
              "      filter: drop-shadow(0px 1px 2px rgba(0, 0, 0, 0.3));\n",
              "      fill: #FFFFFF;\n",
              "    }\n",
              "  </style>\n",
              "\n",
              "      <script>\n",
              "        const buttonEl =\n",
              "          document.querySelector('#df-0d4ac74a-6d12-4135-bb7e-6197cd7f7222 button.colab-df-convert');\n",
              "        buttonEl.style.display =\n",
              "          google.colab.kernel.accessAllowed ? 'block' : 'none';\n",
              "\n",
              "        async function convertToInteractive(key) {\n",
              "          const element = document.querySelector('#df-0d4ac74a-6d12-4135-bb7e-6197cd7f7222');\n",
              "          const dataTable =\n",
              "            await google.colab.kernel.invokeFunction('convertToInteractive',\n",
              "                                                     [key], {});\n",
              "          if (!dataTable) return;\n",
              "\n",
              "          const docLinkHtml = 'Like what you see? Visit the ' +\n",
              "            '<a target=\"_blank\" href=https://colab.research.google.com/notebooks/data_table.ipynb>data table notebook</a>'\n",
              "            + ' to learn more about interactive tables.';\n",
              "          element.innerHTML = '';\n",
              "          dataTable['output_type'] = 'display_data';\n",
              "          await google.colab.output.renderOutput(dataTable, element);\n",
              "          const docLink = document.createElement('div');\n",
              "          docLink.innerHTML = docLinkHtml;\n",
              "          element.appendChild(docLink);\n",
              "        }\n",
              "      </script>\n",
              "    </div>\n",
              "  </div>\n",
              "  "
            ]
          },
          "metadata": {},
          "execution_count": 8
        }
      ]
    },
    {
      "cell_type": "code",
      "source": [
        "x= iris_df.iloc[:, :-1]\n",
        "y= iris_df.iloc[:, -1]"
      ],
      "metadata": {
        "id": "kZRhpc3rGcdG"
      },
      "execution_count": 9,
      "outputs": []
    },
    {
      "cell_type": "code",
      "source": [
        "x_train, x_test, y_train, y_test= train_test_split(x, y,test_size= 0.2, shuffle= True, random_state= 0)\n",
        "x_train= np.asarray(x_train)\n",
        "y_train= np.asarray(y_train)\n",
        "\n",
        "x_test= np.asarray(x_test)\n",
        "y_test= np.asarray(y_test)\n"
      ],
      "metadata": {
        "id": "ssW5e7b_Gan7"
      },
      "execution_count": 10,
      "outputs": []
    },
    {
      "cell_type": "code",
      "source": [
        "def distance_ecu(x_train, x_test_point):\n",
        "\n",
        "  distances= []  ## create empty list called distances\n",
        "  for row in range(len(x_train)): ## Loop over the rows of x_train\n",
        "      current_train_point= x_train[row] #Get them point by point\n",
        "      current_distance= 0 ## initialize the distance by zero\n",
        "\n",
        "      for col in range(len(current_train_point)): ## Loop over the columns of the row\n",
        "          \n",
        "          current_distance += (current_train_point[col] - x_test_point[col]) **2\n",
        "          ## Or current_distance = current_distance + (x_train[i] - x_test_point[i])**2\n",
        "      current_distance= np.sqrt(current_distance)\n",
        "\n",
        "      distances.append(current_distance) ## Append the distances\n",
        "\n",
        "  # Store distances in a dataframe\n",
        "  distances= pd.DataFrame(data=distances,columns=['dist'])\n",
        "  return distances"
      ],
      "metadata": {
        "id": "TrCOr1vgH-l-"
      },
      "execution_count": 11,
      "outputs": []
    },
    {
      "cell_type": "code",
      "source": [
        "def nearest_neighbors(distance_point, K):\n",
        "\n",
        "    # Sort values using the sort_values function\n",
        "    df_nearest= distance_point.sort_values(by=['dist'], axis=0)\n",
        "\n",
        "    ## Take only the first K neighbors\n",
        "    df_nearest= df_nearest[:K]\n",
        "    return df_nearest"
      ],
      "metadata": {
        "id": "pCnILJcOIDvl"
      },
      "execution_count": 23,
      "outputs": []
    },
    {
      "cell_type": "code",
      "source": [
        "def voting(df_nearest, y_train):\n",
        "\n",
        "    ## Use the Counter Object to get the labels with K nearest neighbors.\n",
        "    counter_vote= Counter(y_train[df_nearest.index])\n",
        "\n",
        "    y_pred= counter_vote.most_common()[0][0]   # Majority Voting\n",
        "\n",
        "    return y_pred"
      ],
      "metadata": {
        "id": "Oxed5GLGIHAt"
      },
      "execution_count": 22,
      "outputs": []
    },
    {
      "cell_type": "code",
      "source": [
        "def KNN_from_scratch(x_train, y_train, x_test, K):\n",
        "\n",
        "    y_pred=[]\n",
        "\n",
        "    ## Loop over all the test set and perform the three steps\n",
        "    for x_test_point in x_test:\n",
        "      distance_point  = distance_ecu(x_train, x_test_point)  ## Step 1\n",
        "      df_nearest_point= nearest_neighbors(distance_point, K)  ## Step 2\n",
        "      y_pred_point    = voting(df_nearest_point, y_train) ## Step 3\n",
        "      y_pred.append(y_pred_point)\n",
        "\n",
        "    return y_pred "
      ],
      "metadata": {
        "id": "RWHIY7VHIJFV"
      },
      "execution_count": 21,
      "outputs": []
    },
    {
      "cell_type": "code",
      "source": [
        "scaler= Normalizer().fit(x_train) # the scaler is fitted to the training set\n",
        "normalized_x_train= scaler.transform(x_train) # the scaler is applied to the training set\n",
        "normalized_x_test= scaler.transform(x_test) # the scaler is applied to the test set"
      ],
      "metadata": {
        "id": "TT6Q1vW8IMZt"
      },
      "execution_count": 14,
      "outputs": []
    },
    {
      "cell_type": "code",
      "source": [
        "K=3\n",
        "y_pred_scratch= KNN_from_scratch(normalized_x_train, y_train, normalized_x_test, K)"
      ],
      "metadata": {
        "id": "jYM2kbaDIPSN"
      },
      "execution_count": 17,
      "outputs": []
    },
    {
      "cell_type": "code",
      "source": [
        "accuracy_score(y_test, y_pred_scratch)"
      ],
      "metadata": {
        "colab": {
          "base_uri": "https://localhost:8080/"
        },
        "id": "6QE9iQC-IWPU",
        "outputId": "72d88c33-7746-4998-dfaa-1744b66271d9"
      },
      "execution_count": 18,
      "outputs": [
        {
          "output_type": "execute_result",
          "data": {
            "text/plain": [
              "0.9666666666666667"
            ]
          },
          "metadata": {},
          "execution_count": 18
        }
      ]
    },
    {
      "cell_type": "code",
      "source": [
        "i=0\n",
        "print ('%-25s %-25s %-25s' % ('Original Label', 'Predicted Label', 'Correct/Wrong'))\n",
        "for label in y_test:\n",
        "    print ('%-25s %-25s' % (label, y_pred_scratch[i]), end=\"\")\n",
        "    if (label == y_pred_scratch[i]):\n",
        "        print (' %-25s' % ('Correct'))\n",
        "    else:\n",
        "        print (' %-25s' % ('Wrong'))\n",
        "    i = i + 1"
      ],
      "metadata": {
        "colab": {
          "base_uri": "https://localhost:8080/"
        },
        "id": "PxMav52aISdl",
        "outputId": "3d93e018-1514-4c8c-a16a-fd941e2dc47a"
      },
      "execution_count": 19,
      "outputs": [
        {
          "output_type": "stream",
          "name": "stdout",
          "text": [
            "Original Label            Predicted Label           Correct/Wrong            \n",
            "2.0                       2.0                       Correct                  \n",
            "1.0                       1.0                       Correct                  \n",
            "0.0                       0.0                       Correct                  \n",
            "2.0                       2.0                       Correct                  \n",
            "0.0                       0.0                       Correct                  \n",
            "2.0                       2.0                       Correct                  \n",
            "0.0                       0.0                       Correct                  \n",
            "1.0                       1.0                       Correct                  \n",
            "1.0                       1.0                       Correct                  \n",
            "1.0                       1.0                       Correct                  \n",
            "2.0                       2.0                       Correct                  \n",
            "1.0                       1.0                       Correct                  \n",
            "1.0                       1.0                       Correct                  \n",
            "1.0                       1.0                       Correct                  \n",
            "1.0                       1.0                       Correct                  \n",
            "0.0                       0.0                       Correct                  \n",
            "1.0                       1.0                       Correct                  \n",
            "1.0                       2.0                       Wrong                    \n",
            "0.0                       0.0                       Correct                  \n",
            "0.0                       0.0                       Correct                  \n",
            "2.0                       2.0                       Correct                  \n",
            "1.0                       1.0                       Correct                  \n",
            "0.0                       0.0                       Correct                  \n",
            "0.0                       0.0                       Correct                  \n",
            "2.0                       2.0                       Correct                  \n",
            "0.0                       0.0                       Correct                  \n",
            "0.0                       0.0                       Correct                  \n",
            "1.0                       1.0                       Correct                  \n",
            "1.0                       1.0                       Correct                  \n",
            "0.0                       0.0                       Correct                  \n"
          ]
        }
      ]
    },
    {
      "cell_type": "code",
      "source": [
        "from sklearn import metrics\n",
        "metrics.confusion_matrix(y_test, y_pred_scratch)"
      ],
      "metadata": {
        "colab": {
          "base_uri": "https://localhost:8080/"
        },
        "id": "x1yTsaNSIae0",
        "outputId": "5f0bf129-a0f8-41be-9279-5a5993a80874"
      },
      "execution_count": 20,
      "outputs": [
        {
          "output_type": "execute_result",
          "data": {
            "text/plain": [
              "array([[11,  0,  0],\n",
              "       [ 0, 12,  1],\n",
              "       [ 0,  0,  6]])"
            ]
          },
          "metadata": {},
          "execution_count": 20
        }
      ]
    }
  ]
}